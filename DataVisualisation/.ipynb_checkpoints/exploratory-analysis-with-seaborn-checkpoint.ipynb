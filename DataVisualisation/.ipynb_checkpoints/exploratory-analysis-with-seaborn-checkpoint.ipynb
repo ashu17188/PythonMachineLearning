{
 "cells": [
  {
   "cell_type": "markdown",
   "metadata": {
    "_uuid": "f278102963043a1a31c8bb78df95227f3f23ddd0"
   },
   "source": [
    "<h2>1. Introduction</h2>\n",
    "\n",
    "This IBM Sample Dataset has information about Telco customers and if they left the company within the last month (churn). Each row represents a unique costumer, while the columns contains information about customer’s services, account and demographic data. We will be using Python and Seaborn library to plot and analyze the data.\n",
    "\n",
    "**Basic information**:\n",
    "* Only 7043 rows\n",
    "* There are 21 columns with 19 features\n",
    "* Only 11 missing values (next item).\n",
    "\n",
    "You can also check: [Predicting churn - logistic regression and SVM](https://www.kaggle.com/jsaguiar/predicting-churn-complete-tutorial-logit-vs-svm)"
   ]
  },
  {
   "cell_type": "code",
   "execution_count": 2,
   "metadata": {
    "_cell_guid": "b1076dfc-b9ad-4769-8c92-a6c4dae69d19",
    "_kg_hide-input": true,
    "_uuid": "8f2839f25d086af736a60e9eeb907d3b93b6e0e5"
   },
   "outputs": [
    {
     "ename": "FileNotFoundError",
     "evalue": "[Errno 2] File b'./datasets/input/WA_Fn-UseC_-Telco-Customer-Churn.csv' does not exist: b'./datasets/input/WA_Fn-UseC_-Telco-Customer-Churn.csv'",
     "output_type": "error",
     "traceback": [
      "\u001b[0;31m---------------------------------------------------------------------------\u001b[0m",
      "\u001b[0;31mFileNotFoundError\u001b[0m                         Traceback (most recent call last)",
      "\u001b[0;32m<ipython-input-2-0e12e3d146f7>\u001b[0m in \u001b[0;36m<module>\u001b[0;34m\u001b[0m\n\u001b[1;32m      8\u001b[0m \u001b[0mwarnings\u001b[0m\u001b[0;34m.\u001b[0m\u001b[0msimplefilter\u001b[0m\u001b[0;34m(\u001b[0m\u001b[0maction\u001b[0m\u001b[0;34m=\u001b[0m\u001b[0;34m'ignore'\u001b[0m\u001b[0;34m,\u001b[0m \u001b[0mcategory\u001b[0m\u001b[0;34m=\u001b[0m\u001b[0mUserWarning\u001b[0m\u001b[0;34m)\u001b[0m\u001b[0;34m\u001b[0m\u001b[0;34m\u001b[0m\u001b[0m\n\u001b[1;32m      9\u001b[0m \u001b[0msns\u001b[0m\u001b[0;34m.\u001b[0m\u001b[0mset\u001b[0m\u001b[0;34m(\u001b[0m\u001b[0mstyle\u001b[0m\u001b[0;34m=\u001b[0m\u001b[0;34m\"white\"\u001b[0m\u001b[0;34m)\u001b[0m\u001b[0;34m\u001b[0m\u001b[0;34m\u001b[0m\u001b[0m\n\u001b[0;32m---> 10\u001b[0;31m \u001b[0mdf\u001b[0m \u001b[0;34m=\u001b[0m \u001b[0mpd\u001b[0m\u001b[0;34m.\u001b[0m\u001b[0mread_csv\u001b[0m\u001b[0;34m(\u001b[0m\u001b[0;34m\"./datasets/input/WA_Fn-UseC_-Telco-Customer-Churn.csv\"\u001b[0m\u001b[0;34m)\u001b[0m\u001b[0;34m\u001b[0m\u001b[0;34m\u001b[0m\u001b[0m\n\u001b[0m\u001b[1;32m     11\u001b[0m \u001b[0mdf\u001b[0m\u001b[0;34m.\u001b[0m\u001b[0mhead\u001b[0m\u001b[0;34m(\u001b[0m\u001b[0;36m3\u001b[0m\u001b[0;34m)\u001b[0m\u001b[0;34m\u001b[0m\u001b[0;34m\u001b[0m\u001b[0m\n",
      "\u001b[0;32m~/anaconda3/lib/python3.7/site-packages/pandas/io/parsers.py\u001b[0m in \u001b[0;36mparser_f\u001b[0;34m(filepath_or_buffer, sep, delimiter, header, names, index_col, usecols, squeeze, prefix, mangle_dupe_cols, dtype, engine, converters, true_values, false_values, skipinitialspace, skiprows, skipfooter, nrows, na_values, keep_default_na, na_filter, verbose, skip_blank_lines, parse_dates, infer_datetime_format, keep_date_col, date_parser, dayfirst, iterator, chunksize, compression, thousands, decimal, lineterminator, quotechar, quoting, doublequote, escapechar, comment, encoding, dialect, tupleize_cols, error_bad_lines, warn_bad_lines, delim_whitespace, low_memory, memory_map, float_precision)\u001b[0m\n\u001b[1;32m    700\u001b[0m                     skip_blank_lines=skip_blank_lines)\n\u001b[1;32m    701\u001b[0m \u001b[0;34m\u001b[0m\u001b[0m\n\u001b[0;32m--> 702\u001b[0;31m         \u001b[0;32mreturn\u001b[0m \u001b[0m_read\u001b[0m\u001b[0;34m(\u001b[0m\u001b[0mfilepath_or_buffer\u001b[0m\u001b[0;34m,\u001b[0m \u001b[0mkwds\u001b[0m\u001b[0;34m)\u001b[0m\u001b[0;34m\u001b[0m\u001b[0;34m\u001b[0m\u001b[0m\n\u001b[0m\u001b[1;32m    703\u001b[0m \u001b[0;34m\u001b[0m\u001b[0m\n\u001b[1;32m    704\u001b[0m     \u001b[0mparser_f\u001b[0m\u001b[0;34m.\u001b[0m\u001b[0m__name__\u001b[0m \u001b[0;34m=\u001b[0m \u001b[0mname\u001b[0m\u001b[0;34m\u001b[0m\u001b[0;34m\u001b[0m\u001b[0m\n",
      "\u001b[0;32m~/anaconda3/lib/python3.7/site-packages/pandas/io/parsers.py\u001b[0m in \u001b[0;36m_read\u001b[0;34m(filepath_or_buffer, kwds)\u001b[0m\n\u001b[1;32m    427\u001b[0m \u001b[0;34m\u001b[0m\u001b[0m\n\u001b[1;32m    428\u001b[0m     \u001b[0;31m# Create the parser.\u001b[0m\u001b[0;34m\u001b[0m\u001b[0;34m\u001b[0m\u001b[0;34m\u001b[0m\u001b[0m\n\u001b[0;32m--> 429\u001b[0;31m     \u001b[0mparser\u001b[0m \u001b[0;34m=\u001b[0m \u001b[0mTextFileReader\u001b[0m\u001b[0;34m(\u001b[0m\u001b[0mfilepath_or_buffer\u001b[0m\u001b[0;34m,\u001b[0m \u001b[0;34m**\u001b[0m\u001b[0mkwds\u001b[0m\u001b[0;34m)\u001b[0m\u001b[0;34m\u001b[0m\u001b[0;34m\u001b[0m\u001b[0m\n\u001b[0m\u001b[1;32m    430\u001b[0m \u001b[0;34m\u001b[0m\u001b[0m\n\u001b[1;32m    431\u001b[0m     \u001b[0;32mif\u001b[0m \u001b[0mchunksize\u001b[0m \u001b[0;32mor\u001b[0m \u001b[0miterator\u001b[0m\u001b[0;34m:\u001b[0m\u001b[0;34m\u001b[0m\u001b[0;34m\u001b[0m\u001b[0m\n",
      "\u001b[0;32m~/anaconda3/lib/python3.7/site-packages/pandas/io/parsers.py\u001b[0m in \u001b[0;36m__init__\u001b[0;34m(self, f, engine, **kwds)\u001b[0m\n\u001b[1;32m    893\u001b[0m             \u001b[0mself\u001b[0m\u001b[0;34m.\u001b[0m\u001b[0moptions\u001b[0m\u001b[0;34m[\u001b[0m\u001b[0;34m'has_index_names'\u001b[0m\u001b[0;34m]\u001b[0m \u001b[0;34m=\u001b[0m \u001b[0mkwds\u001b[0m\u001b[0;34m[\u001b[0m\u001b[0;34m'has_index_names'\u001b[0m\u001b[0;34m]\u001b[0m\u001b[0;34m\u001b[0m\u001b[0;34m\u001b[0m\u001b[0m\n\u001b[1;32m    894\u001b[0m \u001b[0;34m\u001b[0m\u001b[0m\n\u001b[0;32m--> 895\u001b[0;31m         \u001b[0mself\u001b[0m\u001b[0;34m.\u001b[0m\u001b[0m_make_engine\u001b[0m\u001b[0;34m(\u001b[0m\u001b[0mself\u001b[0m\u001b[0;34m.\u001b[0m\u001b[0mengine\u001b[0m\u001b[0;34m)\u001b[0m\u001b[0;34m\u001b[0m\u001b[0;34m\u001b[0m\u001b[0m\n\u001b[0m\u001b[1;32m    896\u001b[0m \u001b[0;34m\u001b[0m\u001b[0m\n\u001b[1;32m    897\u001b[0m     \u001b[0;32mdef\u001b[0m \u001b[0mclose\u001b[0m\u001b[0;34m(\u001b[0m\u001b[0mself\u001b[0m\u001b[0;34m)\u001b[0m\u001b[0;34m:\u001b[0m\u001b[0;34m\u001b[0m\u001b[0;34m\u001b[0m\u001b[0m\n",
      "\u001b[0;32m~/anaconda3/lib/python3.7/site-packages/pandas/io/parsers.py\u001b[0m in \u001b[0;36m_make_engine\u001b[0;34m(self, engine)\u001b[0m\n\u001b[1;32m   1120\u001b[0m     \u001b[0;32mdef\u001b[0m \u001b[0m_make_engine\u001b[0m\u001b[0;34m(\u001b[0m\u001b[0mself\u001b[0m\u001b[0;34m,\u001b[0m \u001b[0mengine\u001b[0m\u001b[0;34m=\u001b[0m\u001b[0;34m'c'\u001b[0m\u001b[0;34m)\u001b[0m\u001b[0;34m:\u001b[0m\u001b[0;34m\u001b[0m\u001b[0;34m\u001b[0m\u001b[0m\n\u001b[1;32m   1121\u001b[0m         \u001b[0;32mif\u001b[0m \u001b[0mengine\u001b[0m \u001b[0;34m==\u001b[0m \u001b[0;34m'c'\u001b[0m\u001b[0;34m:\u001b[0m\u001b[0;34m\u001b[0m\u001b[0;34m\u001b[0m\u001b[0m\n\u001b[0;32m-> 1122\u001b[0;31m             \u001b[0mself\u001b[0m\u001b[0;34m.\u001b[0m\u001b[0m_engine\u001b[0m \u001b[0;34m=\u001b[0m \u001b[0mCParserWrapper\u001b[0m\u001b[0;34m(\u001b[0m\u001b[0mself\u001b[0m\u001b[0;34m.\u001b[0m\u001b[0mf\u001b[0m\u001b[0;34m,\u001b[0m \u001b[0;34m**\u001b[0m\u001b[0mself\u001b[0m\u001b[0;34m.\u001b[0m\u001b[0moptions\u001b[0m\u001b[0;34m)\u001b[0m\u001b[0;34m\u001b[0m\u001b[0;34m\u001b[0m\u001b[0m\n\u001b[0m\u001b[1;32m   1123\u001b[0m         \u001b[0;32melse\u001b[0m\u001b[0;34m:\u001b[0m\u001b[0;34m\u001b[0m\u001b[0;34m\u001b[0m\u001b[0m\n\u001b[1;32m   1124\u001b[0m             \u001b[0;32mif\u001b[0m \u001b[0mengine\u001b[0m \u001b[0;34m==\u001b[0m \u001b[0;34m'python'\u001b[0m\u001b[0;34m:\u001b[0m\u001b[0;34m\u001b[0m\u001b[0;34m\u001b[0m\u001b[0m\n",
      "\u001b[0;32m~/anaconda3/lib/python3.7/site-packages/pandas/io/parsers.py\u001b[0m in \u001b[0;36m__init__\u001b[0;34m(self, src, **kwds)\u001b[0m\n\u001b[1;32m   1851\u001b[0m         \u001b[0mkwds\u001b[0m\u001b[0;34m[\u001b[0m\u001b[0;34m'usecols'\u001b[0m\u001b[0;34m]\u001b[0m \u001b[0;34m=\u001b[0m \u001b[0mself\u001b[0m\u001b[0;34m.\u001b[0m\u001b[0musecols\u001b[0m\u001b[0;34m\u001b[0m\u001b[0;34m\u001b[0m\u001b[0m\n\u001b[1;32m   1852\u001b[0m \u001b[0;34m\u001b[0m\u001b[0m\n\u001b[0;32m-> 1853\u001b[0;31m         \u001b[0mself\u001b[0m\u001b[0;34m.\u001b[0m\u001b[0m_reader\u001b[0m \u001b[0;34m=\u001b[0m \u001b[0mparsers\u001b[0m\u001b[0;34m.\u001b[0m\u001b[0mTextReader\u001b[0m\u001b[0;34m(\u001b[0m\u001b[0msrc\u001b[0m\u001b[0;34m,\u001b[0m \u001b[0;34m**\u001b[0m\u001b[0mkwds\u001b[0m\u001b[0;34m)\u001b[0m\u001b[0;34m\u001b[0m\u001b[0;34m\u001b[0m\u001b[0m\n\u001b[0m\u001b[1;32m   1854\u001b[0m         \u001b[0mself\u001b[0m\u001b[0;34m.\u001b[0m\u001b[0munnamed_cols\u001b[0m \u001b[0;34m=\u001b[0m \u001b[0mself\u001b[0m\u001b[0;34m.\u001b[0m\u001b[0m_reader\u001b[0m\u001b[0;34m.\u001b[0m\u001b[0munnamed_cols\u001b[0m\u001b[0;34m\u001b[0m\u001b[0;34m\u001b[0m\u001b[0m\n\u001b[1;32m   1855\u001b[0m \u001b[0;34m\u001b[0m\u001b[0m\n",
      "\u001b[0;32mpandas/_libs/parsers.pyx\u001b[0m in \u001b[0;36mpandas._libs.parsers.TextReader.__cinit__\u001b[0;34m()\u001b[0m\n",
      "\u001b[0;32mpandas/_libs/parsers.pyx\u001b[0m in \u001b[0;36mpandas._libs.parsers.TextReader._setup_parser_source\u001b[0;34m()\u001b[0m\n",
      "\u001b[0;31mFileNotFoundError\u001b[0m: [Errno 2] File b'./datasets/input/WA_Fn-UseC_-Telco-Customer-Churn.csv' does not exist: b'./datasets/input/WA_Fn-UseC_-Telco-Customer-Churn.csv'"
     ]
    }
   ],
   "source": [
    "import numpy as np\n",
    "import pandas as pd\n",
    "import seaborn as sns\n",
    "import matplotlib.pyplot as plt\n",
    "from sklearn.ensemble import RandomForestClassifier\n",
    "import warnings\n",
    "warnings.simplefilter(action='ignore', category=FutureWarning)\n",
    "warnings.simplefilter(action='ignore', category=UserWarning)\n",
    "sns.set(style=\"white\")\n",
    "df = pd.read_csv(\"../datasets/WA_Fn-UseC_-Telco-Customer-Churn.csv\")\n",
    "df.head(3)"
   ]
  },
  {
   "cell_type": "markdown",
   "metadata": {
    "_uuid": "7c6e7160830849231a16761f316a636cd46a4752"
   },
   "source": [
    "<h3>1.1 Impute missing values</h3>\n",
    "\n",
    "There are only 11 missing values, all of them for the TotalCharges column. This values are actually a blank space in the csv file and are exclusive for customers with zero tenure. It's possible to concluded that they are missing due to the fact that the customer never paied anything to the company. We will impute this missing values with zero:"
   ]
  },
  {
   "cell_type": "code",
   "execution_count": null,
   "metadata": {
    "_uuid": "0e1c2de42c773037d01a6afa754c3a85716721f9"
   },
   "outputs": [],
   "source": [
    "df['TotalCharges'] = df['TotalCharges'].replace(\" \", 0).astype('float32')"
   ]
  },
  {
   "cell_type": "markdown",
   "metadata": {
    "_uuid": "c0d7e10aab53145817d3ce78b7182fc3e1c0da33"
   },
   "source": [
    "<h3>1.2 Target variable</h3>\n",
    "\n",
    "We are trying to predict if the client left the company in the previous month. Therefore we have a binary classification problem with a slightly unbalanced target:\n",
    "* Churn: No   - 72.4%\n",
    "* Churn: Yes  - 27.6%"
   ]
  },
  {
   "cell_type": "code",
   "execution_count": null,
   "metadata": {
    "_kg_hide-input": true,
    "_uuid": "4bcd11c3ac024f9ca9faa250212214af13a78e19"
   },
   "outputs": [],
   "source": [
    "ax = sns.catplot(y=\"Churn\", kind=\"count\", data=df, height=2.6, aspect=2.5, orient='h')"
   ]
  },
  {
   "cell_type": "markdown",
   "metadata": {
    "_uuid": "2ebcb37f6d861a822f77a3f83e41ac1d0ca69521"
   },
   "source": [
    "<h2>2. Numerical features</h2>\n",
    "\n",
    "There are only three numerical columns: tenure, monthly charges and total charges. The probability density distribution can be estimate using the seaborn kdeplot function. "
   ]
  },
  {
   "cell_type": "code",
   "execution_count": null,
   "metadata": {
    "_cell_guid": "79c7e3d0-c299-4dcb-8224-4455121ee9b0",
    "_kg_hide-input": true,
    "_uuid": "d629ff2d2480ee46fbb7e2d37f6b5fab8052498a"
   },
   "outputs": [],
   "source": [
    "def kdeplot(feature):\n",
    "    plt.figure(figsize=(9, 4))\n",
    "    plt.title(\"KDE for {}\".format(feature))\n",
    "    ax0 = sns.kdeplot(df[df['Churn'] == 'No'][feature].dropna(), color= 'navy', label= 'Churn: No')\n",
    "    ax1 = sns.kdeplot(df[df['Churn'] == 'Yes'][feature].dropna(), color= 'orange', label= 'Churn: Yes')\n",
    "kdeplot('tenure')\n",
    "kdeplot('MonthlyCharges')\n",
    "kdeplot('TotalCharges')"
   ]
  },
  {
   "cell_type": "markdown",
   "metadata": {
    "_uuid": "8300c950f79b96f499488c969e46fe2dbf469b1d"
   },
   "source": [
    "From the plots above we can conclude that:\n",
    "* Recent clients are more likely to churn\n",
    "* Clients with higher MonthlyCharges are also more likely to churn\n",
    "* Tenure and MonthlyCharges are probably important features\n",
    "\n",
    "In fact we can see some boundaries when we use scatter plots:"
   ]
  },
  {
   "cell_type": "code",
   "execution_count": null,
   "metadata": {
    "_kg_hide-input": true,
    "_uuid": "7a710cce30f8ca0572b79d3521c036f7aa2781fd"
   },
   "outputs": [],
   "source": [
    "g = sns.PairGrid(df, y_vars=[\"tenure\"], x_vars=[\"MonthlyCharges\", \"TotalCharges\"], height=4.5, hue=\"Churn\", aspect=1.1)\n",
    "ax = g.map(plt.scatter, alpha=0.6)"
   ]
  },
  {
   "cell_type": "markdown",
   "metadata": {
    "_uuid": "1eb95fc4c5a229b1e37ea67eb21c1163ce455446"
   },
   "source": [
    "Another feature we can consider is the difference between the MonthlyCharges and the TotalCharges divided by the tenure:"
   ]
  },
  {
   "cell_type": "code",
   "execution_count": null,
   "metadata": {
    "_kg_hide-input": true,
    "_uuid": "6af5a1f0b7b5f14457090e1d122fb8e2c877d2b9"
   },
   "outputs": [],
   "source": [
    "# Calculate features\n",
    "df['total_charges_to_tenure_ratio'] = df['TotalCharges'] / df['tenure']\n",
    "df['monthly_charges_diff'] = df['MonthlyCharges'] - df['total_charges_to_tenure_ratio']\n",
    "kdeplot('monthly_charges_diff')"
   ]
  },
  {
   "cell_type": "markdown",
   "metadata": {
    "_uuid": "5eb241bb02e587b59d5800a7d9cc7ac7e9471f76"
   },
   "source": [
    "Not a promising feature at first glance, but it might be usefull when combined with categorical features."
   ]
  },
  {
   "cell_type": "markdown",
   "metadata": {
    "_uuid": "61c053d418dd071e6eea2ce5acb9bc690bcd054f"
   },
   "source": [
    "\n",
    "<h2>3. Categorical features</h2>\n",
    "\n",
    "This dataset has 16 categorical features:\n",
    "\n",
    "* Six binary features (Yes/No)\n",
    "* Nine features with three unique values each (categories)\n",
    "* One feature with four unique values"
   ]
  },
  {
   "cell_type": "markdown",
   "metadata": {
    "_uuid": "76f7a8fbc0dd8f6e7cac1e16c5a81b9487398c8a"
   },
   "source": [
    "<h3>3.1 Gender and Age (SeniorCitizen)</h3>"
   ]
  },
  {
   "cell_type": "code",
   "execution_count": null,
   "metadata": {
    "_kg_hide-input": true,
    "_kg_hide-output": false,
    "_uuid": "f0a008896cf3a6e7a3d0a842091a07c2a4173bb5"
   },
   "outputs": [],
   "source": [
    "def barplot_percentages(feature, orient='v', axis_name=\"percentage of customers\"):\n",
    "    ratios = pd.DataFrame()\n",
    "    g = df.groupby(feature)[\"Churn\"].value_counts().to_frame()\n",
    "    g = g.rename({\"Churn\": axis_name}, axis=1).reset_index()\n",
    "    g[axis_name] = g[axis_name]/len(df)\n",
    "    if orient == 'v':\n",
    "        ax = sns.barplot(x=feature, y= axis_name, hue='Churn', data=g, orient=orient)\n",
    "        ax.set_yticklabels(['{:,.0%}'.format(y) for y in ax.get_yticks()])\n",
    "    else:\n",
    "        ax = sns.barplot(x= axis_name, y=feature, hue='Churn', data=g, orient=orient)\n",
    "        ax.set_xticklabels(['{:,.0%}'.format(x) for x in ax.get_xticks()])\n",
    "    ax.plot()\n",
    "barplot_percentages(\"SeniorCitizen\")"
   ]
  },
  {
   "cell_type": "code",
   "execution_count": null,
   "metadata": {
    "_kg_hide-input": true,
    "_uuid": "b2e5e90f76fa3ef392b5efb62a886e17b7c05513"
   },
   "outputs": [],
   "source": [
    "df['churn_rate'] = df['Churn'].replace(\"No\", 0).replace(\"Yes\", 1)\n",
    "g = sns.FacetGrid(df, col=\"SeniorCitizen\", height=4, aspect=.9)\n",
    "ax = g.map(sns.barplot, \"gender\", \"churn_rate\", palette = \"Blues_d\", order= ['Female', 'Male'])"
   ]
  },
  {
   "cell_type": "code",
   "execution_count": null,
   "metadata": {
    "_kg_hide-input": true,
    "_uuid": "8ff70f7e98de90065e47f9d006635632ffec42be"
   },
   "outputs": [],
   "source": [
    "g = sns.FacetGrid(df, row='SeniorCitizen', col=\"gender\", hue=\"Churn\", height=3.5)\n",
    "g.map(plt.scatter, \"tenure\", \"MonthlyCharges\", alpha=0.6)\n",
    "g.add_legend();"
   ]
  },
  {
   "cell_type": "markdown",
   "metadata": {
    "_uuid": "611a2e5c348375eb361764f9b89389af8c8af8a3"
   },
   "source": [
    "* Gender is not an indicative of churn. \n",
    "* SeniorCitizens are only 16% of customers, but they have a much higher churn rate: 42% against 23% for non-senior customers. \n",
    "* There are no special relations between this categorical values and the main numerical features."
   ]
  },
  {
   "cell_type": "markdown",
   "metadata": {
    "_uuid": "485b551db3e7b45b2bd8c5c7caf2c0c836bbe897"
   },
   "source": [
    "<h3>3.2 Partner and dependents</h3>"
   ]
  },
  {
   "cell_type": "code",
   "execution_count": null,
   "metadata": {
    "_kg_hide-input": true,
    "_uuid": "29949c879e071c31163dc44b5358ad7e7cd8ab8e"
   },
   "outputs": [],
   "source": [
    "fig, axis = plt.subplots(1, 2, figsize=(12,4))\n",
    "axis[0].set_title(\"Has partner\")\n",
    "axis[1].set_title(\"Has dependents\")\n",
    "axis_y = \"percentage of customers\"\n",
    "# Plot Partner column\n",
    "gp_partner = df.groupby('Partner')[\"Churn\"].value_counts()/len(df)\n",
    "gp_partner = gp_partner.to_frame().rename({\"Churn\": axis_y}, axis=1).reset_index()\n",
    "ax = sns.barplot(x='Partner', y= axis_y, hue='Churn', data=gp_partner, ax=axis[0])\n",
    "# Plot Dependents column\n",
    "gp_dep = df.groupby('Dependents')[\"Churn\"].value_counts()/len(df)\n",
    "gp_dep = gp_dep.to_frame().rename({\"Churn\": axis_y}, axis=1).reset_index()\n",
    "ax = sns.barplot(x='Dependents', y= axis_y, hue='Churn', data=gp_dep, ax=axis[1])"
   ]
  },
  {
   "cell_type": "markdown",
   "metadata": {
    "_uuid": "cb5774af99ae90705a4b7c64cc77777d81dbd250"
   },
   "source": [
    "* Customers that doesn't have partners are more likely to churn\n",
    "* Customers without dependents are also more likely to churn\n",
    "\n",
    "<h3>3.3 Phone and Internet services</h3>\n",
    "\n",
    "Now let's look at the services that customers are using. There are only two main services: phone and internet but the former has many additionals like online backup and security."
   ]
  },
  {
   "cell_type": "markdown",
   "metadata": {
    "_uuid": "ae68bf94a7172f6574d45ca6feea33325dfdaeb3"
   },
   "source": [
    "<b>Phone services</b>\n",
    "\n",
    "There are only two features here: if the client has phone and if he has more than one line. Both can be summed up in one chart:"
   ]
  },
  {
   "cell_type": "code",
   "execution_count": null,
   "metadata": {
    "_kg_hide-input": true,
    "_uuid": "37fbf645211d03858fc24a33c0bad315095892cd"
   },
   "outputs": [],
   "source": [
    "plt.figure(figsize=(9, 4.5))\n",
    "barplot_percentages(\"MultipleLines\", orient='h')"
   ]
  },
  {
   "cell_type": "markdown",
   "metadata": {
    "_uuid": "2eb309846281cee0ac6f89f51f85151828c2c30f"
   },
   "source": [
    "* Few customers doesn't have phone service\n",
    "* Customers with multiple lines have a slightly higher churn rate\n",
    "\n",
    "Let's see how multiple lines affects the monthly charges:"
   ]
  },
  {
   "cell_type": "code",
   "execution_count": null,
   "metadata": {
    "_kg_hide-input": true,
    "_uuid": "2c9fa2ce2189244bdf27c3e88a9d677d2ca6fedd"
   },
   "outputs": [],
   "source": [
    "ax = sns.catplot(x=\"MultipleLines\", y=\"MonthlyCharges\", hue=\"Churn\", kind=\"violin\",\n",
    "                 split=True, palette=\"pastel\", data=df, height=4.2, aspect=1.4)"
   ]
  },
  {
   "cell_type": "markdown",
   "metadata": {
    "_uuid": "d3e0c3df4ec4144176a0d7737c3248dfa37b77f2"
   },
   "source": [
    "<b>Internet services</b>"
   ]
  },
  {
   "cell_type": "code",
   "execution_count": null,
   "metadata": {
    "_kg_hide-input": true,
    "_uuid": "4612c50e61d5b21cee12a207e743c432c8dff1eb"
   },
   "outputs": [],
   "source": [
    "plt.figure(figsize=(9, 4.5))\n",
    "barplot_percentages(\"InternetService\", orient=\"h\")"
   ]
  },
  {
   "cell_type": "markdown",
   "metadata": {
    "_uuid": "7b6fd0f577a3ae82a8275c77756adfef3f9301aa"
   },
   "source": [
    "* Clients without internet have a very low churn rate\n",
    "* Customers with fiber are more probable to churn than those with DSL connection\n",
    "\n",
    "Comparing the Internet service with monthly charges:"
   ]
  },
  {
   "cell_type": "code",
   "execution_count": null,
   "metadata": {
    "_kg_hide-input": true,
    "_uuid": "7884e02f32f36a87a6f42d6d8b979c8295b0fd17"
   },
   "outputs": [],
   "source": [
    "ax = sns.catplot(x=\"InternetService\", y=\"MonthlyCharges\", hue=\"Churn\", kind=\"violin\",\n",
    "                 split=True, palette=\"pastel\", data=df, height=4.2, aspect=1.4);"
   ]
  },
  {
   "cell_type": "markdown",
   "metadata": {
    "_uuid": "2bb690fffa6108b71397f895f12cef448fc678bb"
   },
   "source": [
    "It's interesting how customers with DSL (slower connection) and higher charges are less probable to churn. "
   ]
  },
  {
   "cell_type": "markdown",
   "metadata": {
    "_uuid": "0d4855b7a5732da4e77090bd1e37e4f5919ad4a3"
   },
   "source": [
    "**Additional services**\n",
    "\n",
    "There are six additional services for customers with internet:"
   ]
  },
  {
   "cell_type": "code",
   "execution_count": null,
   "metadata": {
    "_kg_hide-input": true,
    "_uuid": "3eafa739cd31c00ee835ba522db926d3288829fd"
   },
   "outputs": [],
   "source": [
    "cols = [\"OnlineSecurity\", \"OnlineBackup\", \"DeviceProtection\", \"TechSupport\", \"StreamingTV\", \"StreamingMovies\"]\n",
    "df1 = pd.melt(df[df[\"InternetService\"] != \"No\"][cols]).rename({'value': 'Has service'}, axis=1)\n",
    "plt.figure(figsize=(10, 4.5))\n",
    "ax = sns.countplot(data=df1, x='variable', hue='Has service')\n",
    "ax.set(xlabel='Additional service', ylabel='Num of customers')\n",
    "plt.show()"
   ]
  },
  {
   "cell_type": "code",
   "execution_count": null,
   "metadata": {
    "_kg_hide-input": true,
    "_uuid": "fa33f84efb7b2b84497cebe31a800f60a1e69b30"
   },
   "outputs": [],
   "source": [
    "plt.figure(figsize=(10, 4.5))\n",
    "df1 = df[(df.InternetService != \"No\") & (df.Churn == \"Yes\")]\n",
    "df1 = pd.melt(df1[cols]).rename({'value': 'Has service'}, axis=1)\n",
    "ax = sns.countplot(data=df1, x='variable', hue='Has service', hue_order=['No', 'Yes'])\n",
    "ax.set(xlabel='Additional service', ylabel='Num of churns')\n",
    "plt.show()"
   ]
  },
  {
   "cell_type": "markdown",
   "metadata": {
    "_uuid": "4a18359717a91f01a26802afe67d1c59c3642dba"
   },
   "source": [
    "The first plot shows the total number of customers for each additional service, while the second shows the number of clients that churn. We can see that:\n",
    "\n",
    "* Customers with the first 4 additionals (security to tech support) are more unlikely to churn\n",
    "* Streaming service is not predictive for churn"
   ]
  },
  {
   "cell_type": "markdown",
   "metadata": {
    "_uuid": "fd488a7cfb517a8c351a8c23bf205f61239da371"
   },
   "source": [
    "<h3>3.4 Contract and Payment</h3>"
   ]
  },
  {
   "cell_type": "code",
   "execution_count": null,
   "metadata": {
    "_kg_hide-input": true,
    "_uuid": "2452068a04e5c46ec9f613789c5728125ecde36b"
   },
   "outputs": [],
   "source": [
    "g = sns.FacetGrid(df, col=\"PaperlessBilling\", height=4, aspect=.9)\n",
    "ax = g.map(sns.barplot, \"Contract\", \"churn_rate\", palette = \"Blues_d\", order= ['Month-to-month', 'One year', 'Two year'])"
   ]
  },
  {
   "cell_type": "code",
   "execution_count": null,
   "metadata": {
    "_kg_hide-input": true,
    "_uuid": "bed49143f18cbe60df641a1a45d594d86b614762"
   },
   "outputs": [],
   "source": [
    "plt.figure(figsize=(9, 4.5))\n",
    "barplot_percentages(\"PaymentMethod\", orient='h')"
   ]
  },
  {
   "cell_type": "markdown",
   "metadata": {
    "_uuid": "bd852f6a096d8899db7e0b8749eff02a1288266c"
   },
   "source": [
    "A few observations:\n",
    "* Customers with paperless billing are more probable to churn\n",
    "* The preferred payment method is Electronic check with around 35% of customers. This method also has a very high churn rate\n",
    "* Short term contracts have higher churn rates\n",
    "\n",
    "One and two year contracts probably have contractual fines and therefore customers have to wait untill the end of contract to churn. A time-series dataset would be better to understand this kind of behaviour. Now let's have a look at the relation with numerical features:"
   ]
  },
  {
   "cell_type": "code",
   "execution_count": null,
   "metadata": {
    "_kg_hide-input": true,
    "_uuid": "f417784e8263d9abfc4dee937cf4a18f77e65bff"
   },
   "outputs": [],
   "source": [
    "ax = sns.catplot(x=\"Contract\", y=\"MonthlyCharges\", hue=\"Churn\", kind=\"box\", data=df, height=4.2, aspect=1.4)"
   ]
  },
  {
   "cell_type": "code",
   "execution_count": null,
   "metadata": {
    "_kg_hide-input": true,
    "_uuid": "ec604e08635bc32a63d8f6f8f5f4e47613055bde"
   },
   "outputs": [],
   "source": [
    "ax = sns.catplot(y=\"Churn\", x=\"MonthlyCharges\", row=\"PaymentMethod\", kind=\"box\", data=df, height=1.5, aspect=4, orient='h')"
   ]
  },
  {
   "cell_type": "markdown",
   "metadata": {
    "_uuid": "025c7c14f038fed145983018dc6ef27cf77d0b84"
   },
   "source": [
    "* Longer contracts are more affected by higher monthly charges (for churn rate).\n",
    "* Mailed checks have lower charges\n",
    "* There is a huge gap in charges between customers that churn and those that don't with respect to Mailed Check"
   ]
  },
  {
   "cell_type": "markdown",
   "metadata": {
    "_uuid": "925323c4b9ebc22740dbd23df58136b01224762a"
   },
   "source": [
    "<h2>4. Correlation between features</h2>\n",
    "\n",
    "Correlation heatmap (Pearson method)"
   ]
  },
  {
   "cell_type": "code",
   "execution_count": null,
   "metadata": {
    "_kg_hide-input": true,
    "_uuid": "3b5601276fb5e200dd224399937c4a976cba9e93"
   },
   "outputs": [],
   "source": [
    "plt.figure(figsize=(12, 6))\n",
    "df.drop(['customerID', 'churn_rate', 'total_charges_to_tenure_ratio', 'monthly_charges_diff'],\n",
    "        axis=1, inplace=True)\n",
    "corr = df.apply(lambda x: pd.factorize(x)[0]).corr()\n",
    "ax = sns.heatmap(corr, xticklabels=corr.columns, yticklabels=corr.columns, \n",
    "                 linewidths=.2, cmap=\"YlGnBu\")"
   ]
  },
  {
   "cell_type": "markdown",
   "metadata": {
    "_uuid": "8ec6c81439d9c741bf029ac50e03e39730acb089"
   },
   "source": [
    "<h2>5. Feature Importance</h2>\n",
    "\n",
    "To get some preliminary feature importances we will use the Random Forest classifier, an well know decision-tree based model.  I've used one-hot encode to encode the categorical features and dropped the 'No' columns for binary features. I've also manually tested a few hyperparameters to get a better model.\n",
    "\n",
    "The importances are the mean decrease in impurity for each feature across all trees."
   ]
  },
  {
   "cell_type": "code",
   "execution_count": null,
   "metadata": {
    "_kg_hide-input": true,
    "_uuid": "ac23a5fcd7a8d6a17ef1850597a812b7dd95563b"
   },
   "outputs": [],
   "source": [
    "params = {'random_state': 0, 'n_jobs': 4, 'n_estimators': 5000, 'max_depth': 8}\n",
    "# One-hot encode\n",
    "df = pd.get_dummies(df)\n",
    "# Drop redundant columns (for features with two unique values)\n",
    "drop = ['Churn_Yes', 'Churn_No', 'gender_Female', 'Partner_No',\n",
    "        'Dependents_No', 'PhoneService_No', 'PaperlessBilling_No']\n",
    "x, y = df.drop(drop,axis=1), df['Churn_Yes']\n",
    "# Fit RandomForest Classifier\n",
    "clf = RandomForestClassifier(**params)\n",
    "clf = clf.fit(x, y)\n",
    "# Plot features importances\n",
    "imp = pd.Series(data=clf.feature_importances_, index=x.columns).sort_values(ascending=False)\n",
    "plt.figure(figsize=(10,12))\n",
    "plt.title(\"Feature importance\")\n",
    "ax = sns.barplot(y=imp.index, x=imp.values, palette=\"Blues_d\", orient='h')"
   ]
  },
  {
   "cell_type": "markdown",
   "metadata": {
    "_uuid": "a5603859ca51bff7378dbeba08c6d1c415145328"
   },
   "source": [
    "The importances are in line with our previous analysis. The three numerical features are good predictors for churn, specially tenure. As we've seen, customers with Fiber optic are very likely to churn, while those with long term contracts are not. On the other hand, gender and streaming are not important features and It might be interesting to drop additional services with the label 'No internet service', since they are highly correlated.\n",
    "\n",
    "Please leave your feedback and suggestions. \n",
    "\n",
    "You can also check: [Predicting churn - logistic regression and SVM](https://www.kaggle.com/jsaguiar/predicting-churn-complete-tutorial-logit-vs-svm)"
   ]
  }
 ],
 "metadata": {
  "kernelspec": {
   "display_name": "Python 3",
   "language": "python",
   "name": "python3"
  },
  "language_info": {
   "codemirror_mode": {
    "name": "ipython",
    "version": 3
   },
   "file_extension": ".py",
   "mimetype": "text/x-python",
   "name": "python",
   "nbconvert_exporter": "python",
   "pygments_lexer": "ipython3",
   "version": "3.7.3"
  }
 },
 "nbformat": 4,
 "nbformat_minor": 1
}
